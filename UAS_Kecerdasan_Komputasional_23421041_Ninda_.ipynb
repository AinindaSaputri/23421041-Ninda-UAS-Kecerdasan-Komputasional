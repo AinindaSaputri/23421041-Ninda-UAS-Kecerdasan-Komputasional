{
  "nbformat": 4,
  "nbformat_minor": 0,
  "metadata": {
    "colab": {
      "provenance": []
    },
    "kernelspec": {
      "name": "python3",
      "display_name": "Python 3"
    },
    "language_info": {
      "name": "python"
    }
  },
  "cells": [
    {
      "cell_type": "code",
      "source": [
        "import numpy as np\n",
        "from tensorflow.keras.datasets import imdb\n",
        "from tensorflow.keras.preprocessing.sequence import pad_sequences\n",
        "from tensorflow.keras.models import Sequential\n",
        "from tensorflow.keras.layers import Embedding, Conv1D, GlobalMaxPooling1D, Dense, Dropout\n",
        "\n",
        "# Atur parameter untuk embedding dan model\n",
        "max_features = 5000  # Jumlah kata unik yang akan dipertimbangkan\n",
        "maxlen = 400  # Panjang maksimum tiap teks ulasan\n",
        "\n",
        "# Memuat data IMDB\n",
        "(x_train, y_train), (x_test, y_test) = imdb.load_data(num_words=max_features)\n",
        "\n",
        "# Padding sequence agar memiliki panjang yang sama\n",
        "x_train = pad_sequences(x_train, maxlen=maxlen)\n",
        "x_test = pad_sequences(x_test, maxlen=maxlen)\n"
      ],
      "metadata": {
        "id": "0MrwJ6iJKAML"
      },
      "execution_count": 1,
      "outputs": []
    },
    {
      "cell_type": "code",
      "source": [
        "embedding_dim = 50\n",
        "\n",
        "model = Sequential()\n",
        "model.add(Embedding(input_dim=max_features, output_dim=embedding_dim, input_length=maxlen))\n",
        "model.add(Conv1D(128, 5, activation='relu'))\n",
        "model.add(GlobalMaxPooling1D())\n",
        "model.add(Dense(64, activation='relu'))\n",
        "model.add(Dropout(0.2))\n",
        "model.add(Dense(1, activation='sigmoid'))\n",
        "\n",
        "model.compile(optimizer='adam', loss='binary_crossentropy', metrics=['accuracy'])\n",
        "\n",
        "print(model.summary())\n"
      ],
      "metadata": {
        "colab": {
          "base_uri": "https://localhost:8080/"
        },
        "id": "-pctuzr3KLBt",
        "outputId": "9a611794-f061-4fc9-d1eb-1236eff056e4"
      },
      "execution_count": 2,
      "outputs": [
        {
          "output_type": "stream",
          "name": "stdout",
          "text": [
            "Model: \"sequential\"\n",
            "_________________________________________________________________\n",
            " Layer (type)                Output Shape              Param #   \n",
            "=================================================================\n",
            " embedding (Embedding)       (None, 400, 50)           250000    \n",
            "                                                                 \n",
            " conv1d (Conv1D)             (None, 396, 128)          32128     \n",
            "                                                                 \n",
            " global_max_pooling1d (Glob  (None, 128)               0         \n",
            " alMaxPooling1D)                                                 \n",
            "                                                                 \n",
            " dense (Dense)               (None, 64)                8256      \n",
            "                                                                 \n",
            " dropout (Dropout)           (None, 64)                0         \n",
            "                                                                 \n",
            " dense_1 (Dense)             (None, 1)                 65        \n",
            "                                                                 \n",
            "=================================================================\n",
            "Total params: 290449 (1.11 MB)\n",
            "Trainable params: 290449 (1.11 MB)\n",
            "Non-trainable params: 0 (0.00 Byte)\n",
            "_________________________________________________________________\n",
            "None\n"
          ]
        }
      ]
    },
    {
      "cell_type": "code",
      "source": [
        "batch_size = 32\n",
        "epochs = 5\n",
        "\n",
        "history = model.fit(x_train, y_train,\n",
        "                    batch_size=batch_size,\n",
        "                    epochs=epochs,\n",
        "                    validation_data=(x_test, y_test))\n"
      ],
      "metadata": {
        "colab": {
          "base_uri": "https://localhost:8080/"
        },
        "id": "8BDmAr9eKQJg",
        "outputId": "7474e77f-6b03-4eb5-dba5-0658bbd3dca3"
      },
      "execution_count": 3,
      "outputs": [
        {
          "output_type": "stream",
          "name": "stdout",
          "text": [
            "Epoch 1/5\n",
            "782/782 [==============================] - 88s 111ms/step - loss: 0.4061 - accuracy: 0.7984 - val_loss: 0.2672 - val_accuracy: 0.8892\n",
            "Epoch 2/5\n",
            "782/782 [==============================] - 84s 108ms/step - loss: 0.1974 - accuracy: 0.9258 - val_loss: 0.2551 - val_accuracy: 0.8962\n",
            "Epoch 3/5\n",
            "782/782 [==============================] - 81s 103ms/step - loss: 0.1000 - accuracy: 0.9676 - val_loss: 0.3274 - val_accuracy: 0.8815\n",
            "Epoch 4/5\n",
            "782/782 [==============================] - 80s 102ms/step - loss: 0.0361 - accuracy: 0.9914 - val_loss: 0.3698 - val_accuracy: 0.8886\n",
            "Epoch 5/5\n",
            "782/782 [==============================] - 86s 110ms/step - loss: 0.0127 - accuracy: 0.9976 - val_loss: 0.4303 - val_accuracy: 0.8911\n"
          ]
        }
      ]
    },
    {
      "cell_type": "code",
      "source": [
        "score = model.evaluate(x_test, y_test, verbose=0)\n",
        "print(\"Test loss:\", score[0])\n",
        "print(\"Test accuracy:\", score[1])\n"
      ],
      "metadata": {
        "id": "163_qYxUKT0o"
      },
      "execution_count": null,
      "outputs": []
    }
  ]
}